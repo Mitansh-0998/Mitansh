{
  "nbformat": 4,
  "nbformat_minor": 0,
  "metadata": {
    "colab": {
      "name": "Assignment.ipynb",
      "provenance": [],
      "authorship_tag": "ABX9TyMr9nkVkcP0RK/duyLGLA1h",
      "include_colab_link": true
    },
    "kernelspec": {
      "name": "python3",
      "display_name": "Python 3"
    },
    "language_info": {
      "name": "python"
    }
  },
  "cells": [
    {
      "cell_type": "markdown",
      "metadata": {
        "id": "view-in-github",
        "colab_type": "text"
      },
      "source": [
        "<a href=\"https://colab.research.google.com/github/Mitansh-0998/Mitansh/blob/main/Assignment.ipynb\" target=\"_parent\"><img src=\"https://colab.research.google.com/assets/colab-badge.svg\" alt=\"Open In Colab\"/></a>"
      ]
    },
    {
      "cell_type": "code",
      "metadata": {
        "colab": {
          "base_uri": "https://localhost:8080/"
        },
        "id": "mJ90fPSwI3Fz",
        "outputId": "beca47cb-d485-4107-f39e-55d68f9d01be"
      },
      "source": [
        "print(\"Assignment 1\")"
      ],
      "execution_count": null,
      "outputs": [
        {
          "output_type": "stream",
          "text": [
            "Assignment 1\n"
          ],
          "name": "stdout"
        }
      ]
    },
    {
      "cell_type": "markdown",
      "metadata": {
        "id": "Y5vCkp5COUZN"
      },
      "source": [
        "1.\tWrite apythonprogram to solve the quadratic equation, ax2 + bx + python – 0. Consider all possibilities of input data.\n",
        "2.\tSuppose rs.5,000/- is deposited each year in an account which yields 10% interest compounded annually. Write a program which prints the amount in the account at the \n",
        "End of each year for 10 years.\n",
        "3.\tWrite a python program to display (even) or [odd] words for the input of integer number using python library functions. Draw the flowchart also.\t\t\t\t\t\t\n",
        "4.\tWrite a python program, which will read two unequal integer numbers and shall print out both the numbers at the output in descending order.\n",
        "5.\tWrite a python program, which will read three unequal numbers and shall output the largest of the three.\n",
        "6.\tWrite a python program, which will read three unequal integers and shall output all the three integers in decreasing order.\n",
        "7.\tDevelop a program to accept a year as input and printout if it is a leap year or not. A year is a leap year if it is divisible by 4 and centennial years (years divisible by 100 are leap years only when they are also divisible by 400.)\n",
        "8.\tWrite a program in python to display month in words (month number is input).\n",
        "9.\tWrite the menu driven program in ‘c’ language to perform the trignometric functional calculator for the following functions. \n",
        "S – sin (x)\t\t\tc – cos (x)\n",
        "T – tan (x)\t\t\tx – quit\n",
        "10.\tA company manufactures three products, music systems, television sets and refrigerators. The following codes are used to indicate them.\n",
        "\n",
        "Product\tCode\n",
        "Music system\t1\n",
        "Television set\t2\n",
        "Refrigerator\t3\n",
        "\n",
        "   the company has a discount poly as follows :\n",
        "Product\tOrder amount\tDiscount rate\n",
        "Music system\tRs.15,000 or more\t12%\n",
        "\tRs.8,000 or more\t8%\n",
        "\tLess than rs.8,000\t2%\n",
        "Television set\tRs.70,000 or more\t11%\n",
        "\tRs.40,000 or more\t6%\n",
        "Refrigerator\tRs.50,000 or more\t10%\n",
        "\tRs.30,000 or more\t5%\n",
        "For a given product. Use appropriate control structure. using this policy, write a program to calculate the discount amount on an order amount. \n",
        "11.\tWrite a python program, which will print will first 100 natural numbers.\n",
        "12.\tWrite a program for summation of all the natural numbers up to and including the given integer.\n",
        "13.\tWrite a program which reads and multiplies together 20 real numbers.\n",
        " (floating point numbers).\t\t\t\t\t\t\t\t\t\n",
        "14.\tWrite a python program, which will print in a tabular from all the alphabets, capital as well as lower case letters with their ascii values.\n",
        "15.\tWrite a program to read marks of 100 students and find all print the number of students passed in first class. The marks are out of 100 and to get first class one has to obtain minimum 60 marks. Write a program, which will find and print sum of first 100 odd numbers.\n",
        "16.\tGiven a number, write a python program using while lop to reverse the digits of the number.\t     \n",
        "E.g. If number is 31241 then output will be 14213.\n",
        "17.\tWrite the python program to reverse the input four-digit number. \n",
        "18.\tModify the above python program to separate the individual digits of the four-digit number and display. Also get the sum of the separated digits of same four-digit number.\n",
        "Input no.\t1234\t\t\t\toutput \t4321\n",
        "Separated digits 1, 2, 3, 4,\t\tsum = 1+2+3+4 = 10\n",
        "19.\tWrite a python program, which will read a positive integer number and shall print out whether it’s an armstrong number. An armstrong number is one the sum of cubes of whose digits equal the number itself (e.g. 13+53+33=153).\n",
        "20.\tWrite a program which finds four digit perfect squares, where the number represented by \t\te.g. 1681 = 412\t16=42\t\t81=912\t\t\t\t\t\t\n",
        "21.\tWrite a python program to calculate y where y=x^n where y, x are real and n is natural no.\n",
        "22.\tWrite a program to print a “4 times table” in the following form:\t\t\t\t \n",
        "i.\t1  4 = 4\n",
        "ii.\t2  4 = 8\n",
        "iii.\t3  4 = 12\n",
        "iv.\t4  4 = 16\t……… etc.\n",
        "23.\tWrite a python program, which will read an integer and shall print out multiplication table of that integer.\n",
        "24.\tWrite a program in python to calculate factorial of given number.\t\n",
        "25.\tWrite a menu driven program to perform arithmetic functions. 1 for addition, 2 for subtraction, 3 for multiplication, 4 to exit, program will quit only if the option is 4 else it reads option and calls respective function.\t\n",
        "\t\t\t\n",
        "26.\tWrite a program that reads numbers until a negative number is read, and prints\n",
        "i)\tNumber of values read,\n",
        "ii)\tThe largest value and\n",
        "iii)\tThe smallest value\t\n",
        "27.\tWrite a python program to display months in words where month in number is input.\n",
        "28.\tWrite a python program to generate the first n prime numbers.\n",
        "29.\tWrite a python program to read two natural numbers r1 and r2, where r2 is greater than r1 and to generate all the prime numbers between r1 and r2 both inclusive.\t\t\t \n",
        "30.\tWrite a python program to find factorial of given number.\n",
        "Menu driven program to 1.add 2.sud 3.mul 4.exit\n",
        "Program will quit when 4 is input else cal respective function to perform given operation.\n",
        "31.\tSuppose you place a given sum of money, a, into a savings account at the beginning of each year for n years. If the account earns interest at the rate or i percent annually, then the amount of money that have accumulated after n years, f is given by \n",
        "F = a[(1+i\\100)+(1+1/100)2+1(1+1/100)3+………….+(1+1/100)n]\n",
        "Write an interactive python program to determine money gets accumulated at the end of n years.\n",
        "32.\tConjecture holds that all positive integers converges to 1 (one) when treated in the following fashion.\t\t\t\t\t\t\t\t\t\t\n",
        "•\tIf the number is odd, it is multiplied by three and one is added.\n",
        "•\tIf the number is even, it is divided by two.\n",
        " continuously apply above operations to the intermediate results until the number converges to one. Write a program to read an integer number form keyboard and implement the above mentioned algorithm and display all the intermediate values.\n",
        "\n"
      ]
    },
    {
      "cell_type": "markdown",
      "metadata": {
        "id": "7mKbSQDdYQmP"
      },
      "source": [
        "Question 1- Write apythonprogram to solve the quadratic equation, ax2 + bx + python – 0. Consider all possibilities of input data."
      ]
    },
    {
      "cell_type": "code",
      "metadata": {
        "id": "QTQLxRH-YPNm"
      },
      "source": [
        ""
      ],
      "execution_count": null,
      "outputs": []
    },
    {
      "cell_type": "markdown",
      "metadata": {
        "id": "7nH2PSBWYPlW"
      },
      "source": [
        "Question 2- Suppose rs.5,000/- is deposited each year in an account which yields 10% interest compounded annually. Write a program which prints the amount in the account at the End of each year for 10 years."
      ]
    },
    {
      "cell_type": "code",
      "metadata": {
        "id": "XxOu7a_-XrHm",
        "colab": {
          "base_uri": "https://localhost:8080/"
        },
        "outputId": "0feeaac3-d731-45cb-94f1-7adb94841e02"
      },
      "source": [
        "amt=5000\n",
        "intr=0.1\n",
        "time=10\n",
        "for time in range (1,11,1):\n",
        "  actual_amount=intr*amt*time\n",
        "  actual_amount=actual_amount+amt\n",
        "  print(actual_amount,\"year\",time)"
      ],
      "execution_count": null,
      "outputs": [
        {
          "output_type": "stream",
          "text": [
            "5500.0 year 1\n",
            "6000.0 year 2\n",
            "6500.0 year 3\n",
            "7000.0 year 4\n",
            "7500.0 year 5\n",
            "8000.0 year 6\n",
            "8500.0 year 7\n",
            "9000.0 year 8\n",
            "9500.0 year 9\n",
            "10000.0 year 10\n"
          ],
          "name": "stdout"
        }
      ]
    },
    {
      "cell_type": "markdown",
      "metadata": {
        "id": "DBSENjAsXr02"
      },
      "source": [
        "Question 3 -Write a python program to display (even) or [odd] words for the input of integer number using python library functions. Draw the flowchart also."
      ]
    },
    {
      "cell_type": "code",
      "metadata": {
        "colab": {
          "base_uri": "https://localhost:8080/"
        },
        "id": "7rZitFpHXrOO",
        "outputId": "2c68a83d-68dd-467d-ea71-5b6cc15aeeef"
      },
      "source": [
        "a=int(input(\"Enter the Number: \"))\n",
        "if a%2==0:\n",
        "  print(a,\"is Even Number\")\n",
        "else:\n",
        "  print(a,\"is Odd Number\")"
      ],
      "execution_count": null,
      "outputs": [
        {
          "output_type": "stream",
          "text": [
            "Enter the Number: 15\n",
            "15 is Odd Number\n"
          ],
          "name": "stdout"
        }
      ]
    },
    {
      "cell_type": "markdown",
      "metadata": {
        "id": "l7SZ5IclJVum"
      },
      "source": [
        "Question 4-Write a python program, which will read two unequal integer numbers and shall print out both the numbers at the output in descending order.\n"
      ]
    },
    {
      "cell_type": "code",
      "metadata": {
        "colab": {
          "base_uri": "https://localhost:8080/"
        },
        "id": "V0-E37fdJCb3",
        "outputId": "d6c25f5d-cb12-4258-bd4f-55a83433133f"
      },
      "source": [
        "a=int(input(\"Enter a:\"))\n",
        "b=int(input(\"Enter b:\"))\n",
        "if a>b:\n",
        "  print(a,b,sep='\\n')\n",
        "else:\n",
        "  print(b,a,sep='\\n')"
      ],
      "execution_count": null,
      "outputs": [
        {
          "output_type": "stream",
          "text": [
            "Enter a:10\n",
            "Enter b:56\n",
            "56\n",
            "10\n"
          ],
          "name": "stdout"
        }
      ]
    },
    {
      "cell_type": "markdown",
      "metadata": {
        "id": "yE8W0r3VKSGt"
      },
      "source": [
        "Question 5- Write a python program, which will read three unequal numbers and shall output the largest of the three."
      ]
    },
    {
      "cell_type": "code",
      "metadata": {
        "colab": {
          "base_uri": "https://localhost:8080/"
        },
        "id": "L1TPLNOBKUGI",
        "outputId": "67de93d1-29b8-440a-9714-1c54d59a4ef2"
      },
      "source": [
        "a=int(input(\"Enter a:\"))\n",
        "b=int(input(\"Enter b:\"))\n",
        "c=int(input(\"Enter c:\"))\n",
        "if a>b and a>c:\n",
        " print(a,\" is the largest Number\")\n",
        "elif b>c:\n",
        "  print(b,\" is the largest number\")\n",
        "else:\n",
        "  print(c,\" is the largest number\")"
      ],
      "execution_count": null,
      "outputs": [
        {
          "output_type": "stream",
          "text": [
            "Enter a:50\n",
            "Enter b:150\n",
            "Enter c:200\n",
            "200  is the largest number\n"
          ],
          "name": "stdout"
        }
      ]
    },
    {
      "cell_type": "markdown",
      "metadata": {
        "id": "ce5zy6xoLDit"
      },
      "source": [
        "Question 6- Write a python program, which will read three unequal integers and shall output all the three integers in decreasing order."
      ]
    },
    {
      "cell_type": "code",
      "metadata": {
        "colab": {
          "base_uri": "https://localhost:8080/"
        },
        "id": "svQhjhx3Kv_t",
        "outputId": "f9a57533-2a35-4ed7-81d4-3d2cee05e381"
      },
      "source": [
        "a=int(input(\"Enter a:\"))\n",
        "b=int(input(\"Enter b:\"))\n",
        "c=int(input(\"Enter c:\"))\n",
        "if a>b and a>c:\n",
        "  if b>c:\n",
        "    print(a,b,c)\n",
        "  else:\n",
        "    print(a,c,b)\n",
        "elif b>c:\n",
        "  if c>a:\n",
        "    print(b,c,a)\n",
        "  else:\n",
        "    print(b,a,c)\n",
        "else:\n",
        "  if b>a:\n",
        "    print(c,b,a)\n",
        "  else:\n",
        "    print(c,a,b)\n",
        "    "
      ],
      "execution_count": null,
      "outputs": [
        {
          "output_type": "stream",
          "text": [
            "Enter a:18\n",
            "Enter b:16\n",
            "Enter c:12\n",
            "18 16 12\n"
          ],
          "name": "stdout"
        }
      ]
    },
    {
      "cell_type": "markdown",
      "metadata": {
        "id": "Ag-CduUyWsPX"
      },
      "source": [
        "Question 7- Develop a program to accept a year as input and printout if it is a leap year or not. A year is a leap year if it is divisible by 4 and centennial years (years divisible by 100 are leap years only when they are also divisible by 400.)"
      ]
    },
    {
      "cell_type": "code",
      "metadata": {
        "colab": {
          "base_uri": "https://localhost:8080/"
        },
        "id": "_Ih6_axtWxQ2",
        "outputId": "7a79d2ba-2d30-4baa-e667-3f1c9fa739db"
      },
      "source": [
        "n=int(input(\"enter the year: \"))\n",
        "if (n%4==0 and n%100!=0) or (n%400==0):\n",
        "        print(n,\"is a leap year\")\n",
        "else:\n",
        "        print(n,\"is Not a leap year\")\n"
      ],
      "execution_count": null,
      "outputs": [
        {
          "output_type": "stream",
          "text": [
            "enter the year: 2020\n",
            "2020 is a leap year\n"
          ],
          "name": "stdout"
        }
      ]
    },
    {
      "cell_type": "markdown",
      "metadata": {
        "id": "Lgy3hwJzN-Qe"
      },
      "source": [
        "Question 8- Write a program in python to display month in words (month number is input)."
      ]
    },
    {
      "cell_type": "code",
      "metadata": {
        "colab": {
          "base_uri": "https://localhost:8080/"
        },
        "id": "QA9yT16WObaF",
        "outputId": "3e0066eb-ef6d-46c8-f7cf-3abdb95dbe29"
      },
      "source": [
        "a=int(input(\"Enter the Month Number:\"))\n",
        "if a==1:\n",
        "  print(\"January\")\n",
        "elif a==2:\n",
        "  print(\"Febuary\")\n",
        "elif a==3:\n",
        "  print(\"March\")\n",
        "elif a==4:\n",
        "  print(\"April\")\n",
        "elif a==5:\n",
        "  print(\"May\")\n",
        "elif a==6:\n",
        "  print(\"June\")\n",
        "elif a==7:\n",
        "  print(\"July\")\n",
        "elif a==8:\n",
        "  print(\"August\")\n",
        "elif a==9:\n",
        "  print(\"September\")\n",
        "elif a==10:\n",
        "  print(\"October\")\n",
        "elif a==11:\n",
        "  print(\"November\")\n",
        "elif a==12:\n",
        "  print(\"December\")\n",
        "else:\n",
        "  print(\"Invalid Input\")"
      ],
      "execution_count": null,
      "outputs": [
        {
          "output_type": "stream",
          "text": [
            "Enter the Month Number:15\n",
            "Invalid Input\n"
          ],
          "name": "stdout"
        }
      ]
    },
    {
      "cell_type": "markdown",
      "metadata": {
        "id": "46nHl1VlViRB"
      },
      "source": [
        "Question 9- Write the menu driven program in ‘c’ language to perform the trignometric functional calculator for the following functions. S – sin (x) c – cos (x) T – tan (x) x – quit"
      ]
    },
    {
      "cell_type": "code",
      "metadata": {
        "id": "CrXmu6BBVisA",
        "colab": {
          "base_uri": "https://localhost:8080/"
        },
        "outputId": "b331b77d-6be8-44e4-d786-448127b9b366"
      },
      "source": [
        "import math\n",
        "degree = float(input(\"enter the Degree =\"))\n",
        "option = input(\"enter S-sin C-cos T-tan x-quit\")\n",
        "if option=='S':\n",
        "  print(\"sine = \",math.sin(degree))\n",
        "elif option=='C':\n",
        "  print(\"Cosine = \",math.cos(degree))\n",
        "elif option=='X':\n",
        "  print(\"You have quited\")\n",
        "else:\n",
        "  print(\"you have entered Invalid input\")\n"
      ],
      "execution_count": null,
      "outputs": [
        {
          "output_type": "stream",
          "text": [
            "enter the Degree =90\n",
            "enter S-sin C-cos T-tan x-quitS\n",
            "sine =  0.8939966636005579\n"
          ],
          "name": "stdout"
        }
      ]
    },
    {
      "cell_type": "markdown",
      "metadata": {
        "id": "3YoG5uKbRWq_"
      },
      "source": [
        "Question 10- A company manufactures three products, music systems, television sets and refrigerators. The following codes are used to indicate them.\n",
        "Product Code Music system 1 Television set 2 Refrigerator 3\n",
        "\n",
        "the company has a discount poly as follows : Product Order amount Discount rate Music system Rs.15,000 or more 12% Rs.8,000 or more 8% Less than rs.8,000 2% Television set Rs.70,000 or more 11% Rs.40,000 or more 6% Refrigerator Rs.50,000 or more 10% Rs.30,000 or more 5% For a given product. Use appropriate control structure. using this policy, write a program to calculate the discount amount on an order amount."
      ]
    },
    {
      "cell_type": "code",
      "metadata": {
        "colab": {
          "base_uri": "https://localhost:8080/"
        },
        "id": "aW7iz--oRXLQ",
        "outputId": "e9ae4702-61a9-4948-cea0-7de877a6d6d8"
      },
      "source": [
        "Music_System=1\n",
        "Television_Set=2\n",
        "Refrigerator=3\n",
        "\n",
        "Product=int(input(\"Enter the Product code: \"))\n",
        "if Product==1:\n",
        "  Order_amount=int(input(\"Enter the Order amount: \"))\n",
        "  if Order_amount>=15000:\n",
        "    dr=Order_amount*0.12\n",
        "    print(\"Discount rate is 12% \")\n",
        "    print(\"Discount received:\",dr)\n",
        "  elif Order_amount>=8000:\n",
        "    dr=Order_amount*0.08\n",
        "    print(\"Discount rate is 8%\")\n",
        "    print(\"Discount received:\",dr)\n",
        "  else:\n",
        "    dr=Order_amount*0.02\n",
        "    print(\"Discount rate is 2%\")\n",
        "    print(\"Discount received:\",dr)\n",
        "elif Product==2:\n",
        "  Order_amount=int(input(\"Enter the Order amount: \"))\n",
        "  if Order_amount>=70000:\n",
        "    dr=Order_amount*0.11\n",
        "    print(\"Discount rate is 11% \")\n",
        "    print(\"Discount received:\",dr)\n",
        "  elif Order_amount>=40000:\n",
        "    dr=Order_amount*0.06\n",
        "    print(\"Discount rate is 6%\")\n",
        "    print(\"Discount received:\",dr)\n",
        "  else:\n",
        "    print(\"No Discount\")\n",
        "elif Product==3:\n",
        "  Order_amount=int(input(\"Enter the Order amount: \"))\n",
        "  if Order_amount>=50000:\n",
        "    dr=Order_amount*0.10\n",
        "    print(\"Discount rate is 10% \")\n",
        "    print(\"Discount received:\",dr)\n",
        "  elif Order_amount>=30000:\n",
        "    dr=Order_amount*0.05\n",
        "    print(\"Discount rate is 5%\")\n",
        "    print(\"Discount received:\",dr)\n",
        "  else:\n",
        "    print(\" No Discount\")\n",
        "else:\n",
        "  print(\"Enter Valid Product Code\")"
      ],
      "execution_count": null,
      "outputs": [
        {
          "output_type": "stream",
          "text": [
            "Enter the Product code: 2\n",
            "Enter the Order amount: 50000\n",
            "Discount rate is 6%\n",
            "Discount received: 3000.0\n"
          ],
          "name": "stdout"
        }
      ]
    },
    {
      "cell_type": "markdown",
      "metadata": {
        "id": "whiNxnQrNNTA"
      },
      "source": [
        "Question 11-Write a python program, which will print will first 100 natural numbers."
      ]
    },
    {
      "cell_type": "code",
      "metadata": {
        "id": "C6h1wS1nNclz"
      },
      "source": [
        "for i in range(1,101):\n",
        "  print(i)"
      ],
      "execution_count": null,
      "outputs": []
    },
    {
      "cell_type": "markdown",
      "metadata": {
        "id": "VG1K8wM2OG5e"
      },
      "source": [
        "Question 12- Write a program for summation of all the natural numbers up to and including the given integer."
      ]
    },
    {
      "cell_type": "code",
      "metadata": {
        "id": "tInQXwdiOGUL",
        "colab": {
          "base_uri": "https://localhost:8080/"
        },
        "outputId": "c1350ee4-b1d8-4024-e904-095ef42530d5"
      },
      "source": [
        "sum=0\n",
        "for i in range(1,101):\n",
        "  sum=sum+i\n",
        "print(\"Total sum of natural nunber\",sum)\n"
      ],
      "execution_count": null,
      "outputs": [
        {
          "output_type": "stream",
          "text": [
            "Total sum of natural nunber 5050\n"
          ],
          "name": "stdout"
        }
      ]
    },
    {
      "cell_type": "markdown",
      "metadata": {
        "id": "10c3bxKaWA1Y"
      },
      "source": [
        "Question 13- Write a program which reads and multiplies together 20 real numbers. (floating point numbers)."
      ]
    },
    {
      "cell_type": "code",
      "metadata": {
        "id": "0mi3rceNWUqI"
      },
      "source": [
        ""
      ],
      "execution_count": null,
      "outputs": []
    },
    {
      "cell_type": "markdown",
      "metadata": {
        "id": "ISnE8YtuWHRP"
      },
      "source": [
        "Question 14- Write a python program, which will print in a tabular from all the alphabets, capital as well as lower case letters with their ascii values."
      ]
    },
    {
      "cell_type": "code",
      "metadata": {
        "id": "LslyHVdLWUOF",
        "colab": {
          "base_uri": "https://localhost:8080/"
        },
        "outputId": "4979c28f-fccf-4d36-e6d5-59b6fc005b54"
      },
      "source": [
        "asc1,asc2=65,97\n",
        "ch1,ch2='A','a'\n",
        "\n",
        "for i in range(0,26):\n",
        "  print(chr(asc1),ord(ch1)+i,chr(asc2),ord(ch2)+i)\n",
        "  asc1+=1\n",
        "  asc2+=1\n"
      ],
      "execution_count": null,
      "outputs": [
        {
          "output_type": "stream",
          "text": [
            "A 65 a 97\n",
            "B 66 b 98\n",
            "C 67 c 99\n",
            "D 68 d 100\n",
            "E 69 e 101\n",
            "F 70 f 102\n",
            "G 71 g 103\n",
            "H 72 h 104\n",
            "I 73 i 105\n",
            "J 74 j 106\n",
            "K 75 k 107\n",
            "L 76 l 108\n",
            "M 77 m 109\n",
            "N 78 n 110\n",
            "O 79 o 111\n",
            "P 80 p 112\n",
            "Q 81 q 113\n",
            "R 82 r 114\n",
            "S 83 s 115\n",
            "T 84 t 116\n",
            "U 85 u 117\n",
            "V 86 v 118\n",
            "W 87 w 119\n",
            "X 88 x 120\n",
            "Y 89 y 121\n",
            "Z 90 z 122\n"
          ],
          "name": "stdout"
        }
      ]
    },
    {
      "cell_type": "markdown",
      "metadata": {
        "id": "EXZi_ureWNP2"
      },
      "source": [
        "Question 15- Write a program to read marks of 100 students and find all print the number of students passed in first class. The marks are out of 100 and to get first class one has to obtain minimum 60 marks. Write a program, which will find and print sum of first 100 odd numbers."
      ]
    },
    {
      "cell_type": "code",
      "metadata": {
        "id": "Hf7IxuxNWVFv"
      },
      "source": [
        ""
      ],
      "execution_count": null,
      "outputs": []
    },
    {
      "cell_type": "markdown",
      "metadata": {
        "id": "zgf2Z9TcYp7_"
      },
      "source": [
        "Question 16- Given a number, write a python program using while loop to reverse the digits of the number.\n",
        "E.g. If number is 31241 then output will be 14213."
      ]
    },
    {
      "cell_type": "code",
      "metadata": {
        "colab": {
          "base_uri": "https://localhost:8080/"
        },
        "id": "pFOtmCJKYpRP",
        "outputId": "1d44ab42-24c4-4a9f-f28d-852c71b9da12"
      },
      "source": [
        "no=int(input(\"Enter the Number: \"))\n",
        "tno=no\n",
        "rno=0\n",
        "while no>0:\n",
        "  d=no%10\n",
        "  no=no//10\n",
        "  rno=(rno*10)+d\n",
        "print(\"The reverse of given Number is :\",rno) "
      ],
      "execution_count": null,
      "outputs": [
        {
          "output_type": "stream",
          "text": [
            "Enter the Number: 31241\n",
            "The reverse of given Number is : 14213\n"
          ],
          "name": "stdout"
        }
      ]
    },
    {
      "cell_type": "markdown",
      "metadata": {
        "id": "gfjA3UJAPr-X"
      },
      "source": [
        "Question 17- Write the python program to reverse the input four-digit number."
      ]
    },
    {
      "cell_type": "code",
      "metadata": {
        "colab": {
          "base_uri": "https://localhost:8080/"
        },
        "id": "6eUs0NqeMPbE",
        "outputId": "9dc8cc02-0629-4e59-b75a-57ee3088a575"
      },
      "source": [
        "no=int(input(\"Enter the Number: \"))\n",
        "tno=no\n",
        "rno=0\n",
        "while no>0:\n",
        "  d=no%10\n",
        "  no=no//10\n",
        "  rno=(rno*10)+d\n",
        "print(\"The reverse of given Number is :\",rno)  "
      ],
      "execution_count": null,
      "outputs": [
        {
          "output_type": "stream",
          "text": [
            "Enter the Number: 6969\n",
            "The reverse of given Number is : 9696\n"
          ],
          "name": "stdout"
        }
      ]
    },
    {
      "cell_type": "markdown",
      "metadata": {
        "id": "Bc412dzBWWmY"
      },
      "source": [
        "Question 18- Modify the above python program to separate the individual digits of the four-digit number and display. Also get the sum of the separated digits of same four-digit number. Input no. 1234 output 4321 Separated digits 1, 2, 3, 4, sum = 1+2+3+4 = 10"
      ]
    },
    {
      "cell_type": "code",
      "metadata": {
        "id": "pcCeXDtZWW0D",
        "colab": {
          "base_uri": "https://localhost:8080/"
        },
        "outputId": "2ee0da3c-7408-4751-e8cb-5c2b6092b358"
      },
      "source": [
        "no=int(input(\"Enter the Number: \"))\n",
        "sum=0\n",
        "while no>0:               \n",
        "  d=no%10                              \n",
        "  no=no//10               \n",
        "  sum=sum+d              \n",
        "print(\"Sum of the digit\",sum)\n"
      ],
      "execution_count": null,
      "outputs": [
        {
          "output_type": "stream",
          "text": [
            "Enter the Number: 1234\n",
            "Sum of the digit 10\n"
          ],
          "name": "stdout"
        }
      ]
    },
    {
      "cell_type": "markdown",
      "metadata": {
        "id": "3OsxtqM5MNFH"
      },
      "source": [
        "Question 19- Write a python program, which will read a positive integer number and shall print out whether it’s an armstrong number. An armstrong number is one the sum of cubes of whose digits equal the number itself (e.g. 13+53+33=153)."
      ]
    },
    {
      "cell_type": "code",
      "metadata": {
        "colab": {
          "base_uri": "https://localhost:8080/"
        },
        "id": "B1RdjTksMPS1",
        "outputId": "0591255b-0514-42e9-cf23-1d8a73231001"
      },
      "source": [
        "sum=0\n",
        "no=int(input(\"Enter no:\"))\n",
        "tno=no\n",
        "while no>0:\n",
        "  d=no%10\n",
        "  no=no//10\n",
        "  sum=sum+(d**3)\n",
        "if sum==tno:\n",
        "  print(tno,\"- is Armtrong Number\")\n",
        "else:\n",
        "  print(tno,\"- is not a armstrong Number\")"
      ],
      "execution_count": null,
      "outputs": [
        {
          "output_type": "stream",
          "text": [
            "Enter no:15\n",
            "15 - is not a armstrong Number\n"
          ],
          "name": "stdout"
        }
      ]
    },
    {
      "cell_type": "markdown",
      "metadata": {
        "id": "CrJzijLqWgKJ"
      },
      "source": [
        "Question 20- Write a program which finds four digit perfect squares, where the number represented by e.g. 1681 = 412 16=42 81=912"
      ]
    },
    {
      "cell_type": "code",
      "metadata": {
        "id": "Ecc9Q1jyWgZC"
      },
      "source": [
        ""
      ],
      "execution_count": null,
      "outputs": []
    },
    {
      "cell_type": "markdown",
      "metadata": {
        "id": "YjOQkOZ5c23u"
      },
      "source": [
        "Question 21- Write a python program to calculate y where y=x^n where y, x are real and n is natural no."
      ]
    },
    {
      "cell_type": "code",
      "metadata": {
        "id": "Zi7HzpBxWneg",
        "colab": {
          "base_uri": "https://localhost:8080/"
        },
        "outputId": "321a107f-6ea1-4838-84f7-f65c850fbb7b"
      },
      "source": [
        "x=float(input(\"enter x = \"))\n",
        "n=int(input(\"enter n = \"))\n",
        "y=x**n\n",
        "print(\"y = \",y)\n"
      ],
      "execution_count": null,
      "outputs": [
        {
          "output_type": "stream",
          "text": [
            "enter x = 5\n",
            "enter n = 5\n",
            "y =  3125.0\n"
          ],
          "name": "stdout"
        }
      ]
    },
    {
      "cell_type": "markdown",
      "metadata": {
        "id": "zvFl3LCqcBre"
      },
      "source": [
        "Question 22- Write a program to print a “4 times table” in the following form:\n",
        "i. 1  4 = 4 ii. 2  4 = 8 iii. 3  4 = 12 iv. 4  4 = 16 ……… etc."
      ]
    },
    {
      "cell_type": "code",
      "metadata": {
        "colab": {
          "base_uri": "https://localhost:8080/"
        },
        "id": "_o3yjHC9cBPf",
        "outputId": "48886841-3a4b-4941-8016-f3c5a79e855a"
      },
      "source": [
        "a=4\n",
        "for i in range(1,11,1):\n",
        "  n=a*i\n",
        "  print(i,\"*\",a,\"is\",n)"
      ],
      "execution_count": null,
      "outputs": [
        {
          "output_type": "stream",
          "text": [
            "1 * 4 is 4\n",
            "2 * 4 is 8\n",
            "3 * 4 is 12\n",
            "4 * 4 is 16\n",
            "5 * 4 is 20\n",
            "6 * 4 is 24\n",
            "7 * 4 is 28\n",
            "8 * 4 is 32\n",
            "9 * 4 is 36\n",
            "10 * 4 is 40\n"
          ],
          "name": "stdout"
        }
      ]
    },
    {
      "cell_type": "markdown",
      "metadata": {
        "id": "FHyVOduYRtWI"
      },
      "source": [
        "Question 23- Write a python program, which will read an integer and shall print out multiplication table of that integer."
      ]
    },
    {
      "cell_type": "code",
      "metadata": {
        "colab": {
          "base_uri": "https://localhost:8080/"
        },
        "id": "i9ds2wi7Rz40",
        "outputId": "c4f1d3b8-28f5-444a-8848-54cacdf31d1c"
      },
      "source": [
        "a=int(input(\"Enter a Number: \"))\n",
        "for i in range(1,11,1):\n",
        "  n=a*i\n",
        "  print(a,\"*\",i,\"is\",n)"
      ],
      "execution_count": null,
      "outputs": [
        {
          "output_type": "stream",
          "text": [
            "Enter a Number: 2\n",
            "2 * 1 is 2\n",
            "2 * 2 is 4\n",
            "2 * 3 is 6\n",
            "2 * 4 is 8\n",
            "2 * 5 is 10\n",
            "2 * 6 is 12\n",
            "2 * 7 is 14\n",
            "2 * 8 is 16\n",
            "2 * 9 is 18\n",
            "2 * 10 is 20\n"
          ],
          "name": "stdout"
        }
      ]
    },
    {
      "cell_type": "markdown",
      "metadata": {
        "id": "T2qm1LeRR6OG"
      },
      "source": [
        "Question 24- Write a program in python to calculate factorial of given number."
      ]
    },
    {
      "cell_type": "code",
      "metadata": {
        "colab": {
          "base_uri": "https://localhost:8080/"
        },
        "id": "Pca0asa3SAIN",
        "outputId": "8ee12b21-e69b-4847-8c36-22cc18b8c043"
      },
      "source": [
        "n=int(input(\"Enter the Number: \"))\n",
        "fact=1\n",
        "for i in range(1,n+1):\n",
        "  fact=fact*i\n",
        "print(fact,\"is the factorial of\",i)"
      ],
      "execution_count": null,
      "outputs": [
        {
          "output_type": "stream",
          "text": [
            "Enter the Number: 15\n",
            "1307674368000 is the factorial of 15\n"
          ],
          "name": "stdout"
        }
      ]
    },
    {
      "cell_type": "markdown",
      "metadata": {
        "id": "fFF5-NUTc9l3"
      },
      "source": [
        "Question 25- Write a menu driven program to perform arithmetic functions. 1 for addition, 2 for subtraction, 3 for multiplication, 4 to exit, program will quit only if the option is 4 else it reads option and calls respective function.\n"
      ]
    },
    {
      "cell_type": "code",
      "metadata": {
        "colab": {
          "base_uri": "https://localhost:8080/"
        },
        "id": "N_oyi76SdAyt",
        "outputId": "ea1415b9-31a1-4923-dce3-f0f594bd0498"
      },
      "source": [
        "print(\"1 for addition\")\n",
        "print(\"2 for subtraction\")\n",
        "print(\"3 for multiplication\")\n",
        "print(\"4 to exit\")\n",
        "choice=int(input(\"Enter the choice:\"))\n",
        "if choice==1:\n",
        "      a=int(input(\"Enter the number:\"))\n",
        "      b=int(input(\"Enter the number:\"))\n",
        "      result=a+b\n",
        "      print(\"Result is\",result)\n",
        "elif choice==2:\n",
        "      a=int(input(\"Enter the number:\"))\n",
        "      b=int(input(\"Enter the number:\"))\n",
        "      result=a-b\n",
        "      print(\"Result is\",result)\n",
        "elif choice==3:\n",
        "      a=int(input(\"Enter the number:\"))\n",
        "      b=int(input(\"Enter the number:\"))\n",
        "      result=a*b\n",
        "      print(\"Result is\",result)\n",
        "elif choice==4:\n",
        "      print(\"Exit\")\n",
        "else:\n",
        "      pass"
      ],
      "execution_count": null,
      "outputs": [
        {
          "output_type": "stream",
          "text": [
            "1 for addition\n",
            "2 for subtraction\n",
            "3 for multiplication\n",
            "4 to exit\n",
            "Enter the choice3\n",
            "Enter the number2\n",
            "Enter the number6\n",
            "Result is 12\n"
          ],
          "name": "stdout"
        }
      ]
    },
    {
      "cell_type": "markdown",
      "metadata": {
        "id": "_fzJquU8WsAR"
      },
      "source": [
        "Question 26- Write a program that reads numbers until a negative number is read, and prints i) Number of values read, ii) The largest value and iii) The smallest value"
      ]
    },
    {
      "cell_type": "code",
      "metadata": {
        "id": "8Beqf2OHWsJg",
        "colab": {
          "base_uri": "https://localhost:8080/"
        },
        "outputId": "3494a893-42d4-4bff-dd13-55d791c80f10"
      },
      "source": [
        "lt=[]\n",
        "while True:\n",
        "  data=float(input('Enter numbers:'))\n",
        "  if data<0:\n",
        "    break\n",
        "  lt.append(int(data))\n",
        "print('Largest Value =', max(lt))\n",
        "print('Smallest Value =',min(lt))"
      ],
      "execution_count": null,
      "outputs": [
        {
          "output_type": "stream",
          "text": [
            "Enter numbers:56\n",
            "Enter numbers:98\n",
            "Enter numbers:65\n",
            "Enter numbers:30\n",
            "Enter numbers:-9\n",
            "Largest Value = 98\n",
            "Smallest Value = 30\n"
          ],
          "name": "stdout"
        }
      ]
    },
    {
      "cell_type": "markdown",
      "metadata": {
        "id": "Imk5sLDvUHOW"
      },
      "source": [
        "Question 27- Write a python program to display months in words where month in number is input."
      ]
    },
    {
      "cell_type": "code",
      "metadata": {
        "colab": {
          "base_uri": "https://localhost:8080/"
        },
        "id": "HAjauijfY-aP",
        "outputId": "792abf8f-004b-4786-ac45-9bf5f54378ab"
      },
      "source": [
        "a=int(input(\"Enter the Month Number:\"))\n",
        "if a==1:\n",
        "  print(\"January\")\n",
        "elif a==2:\n",
        "  print(\"Febuary\")\n",
        "elif a==3:\n",
        "  print(\"March\")\n",
        "elif a==4:\n",
        "  print(\"April\")\n",
        "elif a==5:\n",
        "  print(\"May\")\n",
        "elif a==6:\n",
        "  print(\"June\")\n",
        "elif a==7:\n",
        "  print(\"July\")\n",
        "elif a==8:\n",
        "  print(\"August\")\n",
        "elif a==9:\n",
        "  print(\"September\")\n",
        "elif a==10:\n",
        "  print(\"October\")\n",
        "elif a==11:\n",
        "  print(\"November\")\n",
        "elif a==12:\n",
        "  print(\"December\")\n",
        "else:\n",
        "  print(\"Invalid Input\")"
      ],
      "execution_count": null,
      "outputs": [
        {
          "output_type": "stream",
          "text": [
            "Enter the Month Number:12\n",
            "December\n"
          ],
          "name": "stdout"
        }
      ]
    },
    {
      "cell_type": "markdown",
      "metadata": {
        "id": "R8kNdT5UmDa_"
      },
      "source": [
        "Question 28- Write a python program to generate the first n prime numbers."
      ]
    },
    {
      "cell_type": "code",
      "metadata": {
        "colab": {
          "base_uri": "https://localhost:8080/"
        },
        "id": "NauexMO9lG14",
        "outputId": "5dae2394-b044-465c-c464-a55be1d96674"
      },
      "source": [
        "n=int(input(\"enter a range:\"))  \n",
        "for num in range(1,n):     \n",
        "  if num>1:                     \n",
        "    for i in range(2,num):       \n",
        "      if num%i==0:\n",
        "        break\n",
        "    else:\n",
        "      print(num,\"is a prime number\")\n"
      ],
      "execution_count": null,
      "outputs": [
        {
          "output_type": "stream",
          "text": [
            "enter a range:20\n",
            "2 prime\n",
            "3 prime\n",
            "5 prime\n",
            "7 prime\n",
            "11 prime\n",
            "13 prime\n",
            "17 prime\n",
            "19 prime\n"
          ],
          "name": "stdout"
        }
      ]
    },
    {
      "cell_type": "markdown",
      "metadata": {
        "id": "lMsJHkMekap_"
      },
      "source": [
        "Question 29-Write a python program to read two natural numbers r1 and r2, where r2 is greater than r1 and to generate all the prime numbers between r1 and r2 both inclusive."
      ]
    },
    {
      "cell_type": "code",
      "metadata": {
        "colab": {
          "base_uri": "https://localhost:8080/"
        },
        "id": "dM_u3v_Ekhg7",
        "outputId": "e363a022-29f6-4ae3-9283-cdb24e4daeb6"
      },
      "source": [
        "r1=int(input(\"enter a number\"))     \n",
        "r2=int(input(\"enter a number\"))     \n",
        "if r1<r2:\n",
        " for num in range(r1,r2+1):                \n",
        "    if num > 1:                        \n",
        "      for i in range(2, num):\n",
        "           if (num % i) == 0:     \n",
        "               break               \n",
        "    else:\t\t\n",
        "           print(num,\"prime number\")\n"
      ],
      "execution_count": null,
      "outputs": [
        {
          "output_type": "stream",
          "text": [
            "enter a number1\n",
            "enter a number10\n",
            "1 prime number\n"
          ],
          "name": "stdout"
        }
      ]
    },
    {
      "cell_type": "markdown",
      "metadata": {
        "id": "oKvaWJIufnqn"
      },
      "source": [
        "Question 30- Write a python program to find factorial of given number. Menu driven program to 1.add 2.sud 3.mul 4.exit Program will quit when 4 is input else cal respective function to perform given operation."
      ]
    },
    {
      "cell_type": "code",
      "metadata": {
        "colab": {
          "base_uri": "https://localhost:8080/"
        },
        "id": "UBm7bOOMftxR",
        "outputId": "7ae079f6-8749-4c5a-a494-8a685c6d7c11"
      },
      "source": [
        "n=int(input(\"Enter the Number: \"))\n",
        "fact=1\n",
        "for i in range(1,n+1):\n",
        "  fact=fact*i\n",
        "print(fact,\"is the factorial of\",i)\n",
        "print(\"1 for add\")\n",
        "print(\"2 for sub\")\n",
        "print(\"3 for mul\")\n",
        "print(\"4 to exit\")\n",
        "while True:\n",
        "  choice=int(input(\"Enter the choice:\"))\n",
        "  if choice==1:\n",
        "      a=int(input(\"Enter the number:\"))\n",
        "      b=int(input(\"Enter the number:\"))\n",
        "      result=a+b\n",
        "      print(\"Result is\",result)\n",
        "      break\n",
        "  if choice==2:\n",
        "      a=int(input(\"Enter the number:\"))\n",
        "      b=int(input(\"Enter the number:\"))\n",
        "      result=a-b\n",
        "      print(\"Result is\",result)\n",
        "      break\n",
        "  if choice==3:\n",
        "      a=int(input(\"Enter the number:\"))\n",
        "      b=int(input(\"Enter the number:\"))\n",
        "      result=a*b\n",
        "      print(\"Result is\",result)\n",
        "      break\n",
        "  if choice==4:\n",
        "      break\n",
        "      "
      ],
      "execution_count": null,
      "outputs": [
        {
          "output_type": "stream",
          "text": [
            "Enter the Number: 5\n",
            "120 is the factorial of 5\n",
            "1 for add\n",
            "2 for sub\n",
            "3 for mul\n",
            "4 to exit\n",
            "Enter the choice:1\n",
            "Enter the number:10\n",
            "Enter the number:20\n",
            "Result is 30\n"
          ],
          "name": "stdout"
        }
      ]
    },
    {
      "cell_type": "markdown",
      "metadata": {
        "id": "D5zU_XVQW5Zq"
      },
      "source": [
        "Question 31- Suppose you place a given sum of money, a, into a savings account at the beginning of each year for n years. If the account earns interest at the rate or i percent annually, then the amount of money that have accumulated after n years, f is given by F = a[(1+i\\100)+(1+1/100)2+1(1+1/100)3+………….+(1+1/100)n] Write an interactive python program to determine money gets accumulated at the end of n years.\n",
        "\n"
      ]
    },
    {
      "cell_type": "code",
      "metadata": {
        "id": "7AZ4-c7IW7rT"
      },
      "source": [
        ""
      ],
      "execution_count": null,
      "outputs": []
    },
    {
      "cell_type": "markdown",
      "metadata": {
        "id": "IoRxKdciW8Y3"
      },
      "source": [
        "Question 32- Conjecture holds that all positive integers converges to 1 (one) when treated in the following fashion.\n",
        "• If the number is odd, it is multiplied by three and one is added. • If the number is even, it is divided by two. continuously apply above operations to the intermediate results until the number converges to one. Write a program to read an integer number form keyboard and implement the above mentioned algorithm and display all the intermediate values.\n",
        "\n"
      ]
    },
    {
      "cell_type": "code",
      "metadata": {
        "id": "uBZn3oSFXDCz"
      },
      "source": [
        ""
      ],
      "execution_count": null,
      "outputs": []
    }
  ]
}